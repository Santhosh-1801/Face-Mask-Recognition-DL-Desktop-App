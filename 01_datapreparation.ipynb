{
 "cells": [
  {
   "cell_type": "code",
   "execution_count": 1,
   "id": "1bccf736-a446-4ba3-983f-c6e7e0cd2fb2",
   "metadata": {},
   "outputs": [],
   "source": [
    "import os\n",
    "import numpy as np\n",
    "import pandas as pd\n",
    "import cv2 \n",
    "import gc \n",
    "from tqdm import tqdm \n",
    "from glob import glob"
   ]
  },
  {
   "cell_type": "markdown",
   "id": "45cefc59-7ebc-4271-ba1e-a13bb9948933",
   "metadata": {},
   "source": [
    "## Data Collection and Labelling"
   ]
  },
  {
   "cell_type": "code",
   "execution_count": 2,
   "id": "69db7857-d6bd-4a50-ac64-c5f0ca2c8292",
   "metadata": {},
   "outputs": [],
   "source": [
    "dirs=os.listdir('data')\n",
    "images_path=[]\n",
    "labels=[]\n",
    "for folder in dirs:\n",
    "    path=glob('./data/{}/*.jpg'.format(folder))\n",
    "    label=['{}'.format(folder)]*len(path)\n",
    "    images_path.extend(path)\n",
    "    labels.extend(label)"
   ]
  },
  {
   "cell_type": "markdown",
   "id": "4ba96bca-296a-4043-a546-70e90ac01e31",
   "metadata": {},
   "source": [
    "## Face Detection"
   ]
  },
  {
   "cell_type": "code",
   "execution_count": 3,
   "id": "1f1c1157-27c3-48ba-ad89-4b0d7f1f30f6",
   "metadata": {},
   "outputs": [],
   "source": [
    "img_path=images_path[1]\n",
    "img=cv2.imread(img_path)"
   ]
  },
  {
   "cell_type": "code",
   "execution_count": 4,
   "id": "18660012-da49-4a2a-bbe5-722013c74cca",
   "metadata": {},
   "outputs": [
    {
     "data": {
      "text/plain": [
       "array([[[  1,   3,   3],\n",
       "        [  0,   2,   2],\n",
       "        [  0,   2,   2],\n",
       "        ...,\n",
       "        [  0,   3,   8],\n",
       "        [  0,   3,   8],\n",
       "        [  0,   3,   8]],\n",
       "\n",
       "       [[  1,   3,   3],\n",
       "        [  0,   2,   2],\n",
       "        [  0,   2,   2],\n",
       "        ...,\n",
       "        [  0,   3,   8],\n",
       "        [  0,   3,   8],\n",
       "        [  0,   3,   8]],\n",
       "\n",
       "       [[  1,   3,   3],\n",
       "        [  0,   2,   2],\n",
       "        [  0,   2,   2],\n",
       "        ...,\n",
       "        [  0,   3,   8],\n",
       "        [  0,   3,   8],\n",
       "        [  0,   3,   8]],\n",
       "\n",
       "       ...,\n",
       "\n",
       "       [[  6,  26, 111],\n",
       "        [  6,  26, 111],\n",
       "        [  6,  26, 111],\n",
       "        ...,\n",
       "        [ 83, 130, 211],\n",
       "        [ 83, 130, 211],\n",
       "        [ 80, 127, 208]],\n",
       "\n",
       "       [[  6,  26, 111],\n",
       "        [  6,  26, 111],\n",
       "        [  6,  26, 111],\n",
       "        ...,\n",
       "        [ 81, 128, 209],\n",
       "        [ 82, 129, 210],\n",
       "        [ 80, 127, 208]],\n",
       "\n",
       "       [[  6,  26, 111],\n",
       "        [  6,  26, 111],\n",
       "        [  6,  26, 111],\n",
       "        ...,\n",
       "        [ 80, 127, 208],\n",
       "        [ 81, 128, 209],\n",
       "        [ 80, 127, 208]]], dtype=uint8)"
      ]
     },
     "execution_count": 4,
     "metadata": {},
     "output_type": "execute_result"
    }
   ],
   "source": [
    "img"
   ]
  },
  {
   "cell_type": "code",
   "execution_count": 5,
   "id": "adeefb8b-6e53-474e-9a8e-609caa7f63c2",
   "metadata": {},
   "outputs": [],
   "source": [
    "cv2.namedWindow('original', cv2.WINDOW_NORMAL)\n",
    "cv2.resizeWindow('original', 1000, 800)\n",
    "cv2.imshow('original', img)\n",
    "cv2.waitKey()\n",
    "cv2.destroyAllWindows()"
   ]
  },
  {
   "cell_type": "code",
   "execution_count": 6,
   "id": "3ee12f1d-d25a-4281-a133-6b613b6f8542",
   "metadata": {},
   "outputs": [],
   "source": [
    "face_detection_model=cv2.dnn.readNetFromCaffe('./models/deploy.prototxt.txt','./models/res10_300x300_ssd_iter_140000_fp16.caffemodel')"
   ]
  },
  {
   "cell_type": "code",
   "execution_count": 7,
   "id": "bad29097-1a06-4636-ac85-e6b5e261b481",
   "metadata": {},
   "outputs": [],
   "source": [
    "def face_detection_dnn(img):\n",
    "    image=img.copy()\n",
    "    h,w=image.shape[:2]\n",
    "    blob=cv2.dnn.blobFromImage(image,1,(300,300),(104,117,123),swapRB=True)\n",
    "    \n",
    "    #get detections\n",
    "    face_detection_model.setInput(blob)\n",
    "    detections=face_detection_model.forward()\n",
    "    for i in range(0,detections.shape[2]):\n",
    "        confidence=detections[0,0,i,2]\n",
    "        if confidence>0.5:\n",
    "            box=detections[0,0,i,3:7]*np.array([w,h,w,h])\n",
    "            box=box.astype(int)\n",
    "            pt1=(box[0],box[1])\n",
    "            pt2=(box[2],box[3])\n",
    "       # cv2.rectangle(image,pt1,pt2,(0,255,0),2)\n",
    "            roi=image[box[1]:box[3],box[0]:box[2]]\n",
    "            return roi\n",
    "    return None\n",
    "\n",
    "\n"
   ]
  },
  {
   "cell_type": "code",
   "execution_count": 8,
   "id": "91fa4d31-2474-41bf-b035-0aa3d0ddd135",
   "metadata": {},
   "outputs": [],
   "source": [
    "img_roi=face_detection_dnn(img)"
   ]
  },
  {
   "cell_type": "code",
   "execution_count": 10,
   "id": "1958d831-b8a8-4353-82a3-b9b533b13426",
   "metadata": {},
   "outputs": [],
   "source": [
    "def datapreprocess(img):\n",
    "    face=face_detection_dnn(img)\n",
    "    if face is not None:\n",
    "        blob=cv2.dnn.blobFromImage(face,1,(100,100),(104,117,123),swapRB=True)\n",
    "        blob_squeeze=np.squeeze(blob).T\n",
    "        blob_rotate=cv2.rotate(blob_squeeze,cv2.ROTATE_90_CLOCKWISE)\n",
    "        blob_flip=cv2.flip(blob_rotate,1)\n",
    "        \n",
    "        img_norm=np.maximum(blob_flip,0)/blob_flip.max()\n",
    "        return img_norm\n",
    "    else:\n",
    "        return None\n",
    "    "
   ]
  },
  {
   "cell_type": "code",
   "execution_count": 11,
   "id": "2d616d89-5963-4c1f-908b-76a875e9a0cd",
   "metadata": {},
   "outputs": [
    {
     "name": "stderr",
     "output_type": "stream",
     "text": [
      "preprocessing: 10000it [18:38,  8.94it/s]\n"
     ]
    }
   ],
   "source": [
    "data_img=[]\n",
    "label_img=[]\n",
    "i=0\n",
    "for path,label in tqdm(zip(images_path,labels),desc='preprocessing'):\n",
    "    img=cv2.imread(path)\n",
    "    process_img=datapreprocess(img)\n",
    "    if process_img is not None:\n",
    "        data_img.append(process_img)\n",
    "        label_img.append(label)\n",
    "\n",
    "    i+=1\n",
    "    if i%100 == 0:\n",
    "        gc.collect()"
   ]
  },
  {
   "cell_type": "code",
   "execution_count": 12,
   "id": "b108d71c-9799-42c5-89b0-cdc981a509f6",
   "metadata": {},
   "outputs": [],
   "source": [
    "X=np.array(data_img)\n",
    "y=np.array(label_img)\n"
   ]
  },
  {
   "cell_type": "code",
   "execution_count": 13,
   "id": "5c588fc8-f239-44a3-9d10-50d998924bd3",
   "metadata": {},
   "outputs": [
    {
     "data": {
      "text/plain": [
       "(9959, 100, 100, 3)"
      ]
     },
     "execution_count": 13,
     "metadata": {},
     "output_type": "execute_result"
    }
   ],
   "source": [
    "X.shape"
   ]
  },
  {
   "cell_type": "code",
   "execution_count": 14,
   "id": "d5952cd3-7c61-48a6-bace-432de4f1871f",
   "metadata": {},
   "outputs": [
    {
     "data": {
      "text/plain": [
       "(9959,)"
      ]
     },
     "execution_count": 14,
     "metadata": {},
     "output_type": "execute_result"
    }
   ],
   "source": [
    "y.shape"
   ]
  },
  {
   "cell_type": "code",
   "execution_count": 15,
   "id": "03b6936b-cfc9-4199-b26e-19754190cc5d",
   "metadata": {},
   "outputs": [],
   "source": [
    "np.savez(\"./data/data_preprocess.npz\",X,y)"
   ]
  },
  {
   "cell_type": "code",
   "execution_count": null,
   "id": "bfc6e42d-aade-4a96-93b4-f7e3d56e9c07",
   "metadata": {},
   "outputs": [],
   "source": []
  }
 ],
 "metadata": {
  "kernelspec": {
   "display_name": "Python 3 (ipykernel)",
   "language": "python",
   "name": "python3"
  },
  "language_info": {
   "codemirror_mode": {
    "name": "ipython",
    "version": 3
   },
   "file_extension": ".py",
   "mimetype": "text/x-python",
   "name": "python",
   "nbconvert_exporter": "python",
   "pygments_lexer": "ipython3",
   "version": "3.10.9"
  }
 },
 "nbformat": 4,
 "nbformat_minor": 5
}
